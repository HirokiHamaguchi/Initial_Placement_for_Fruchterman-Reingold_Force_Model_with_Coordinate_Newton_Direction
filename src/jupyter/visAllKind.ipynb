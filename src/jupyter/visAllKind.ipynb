{
 "cells": [
  {
   "cell_type": "code",
   "execution_count": null,
   "metadata": {},
   "outputs": [],
   "source": [
    "# for method in [\n",
    "#     \"circular_layout\",\n",
    "#     \"kamada_kawai_layout\",\n",
    "#     \"random_layout\",\n",
    "#     \"shell_layout\",\n",
    "#     \"spring_layout\",\n",
    "#     \"spectral_layout\",\n",
    "#     \"planar_layout\",\n",
    "#     \"spiral_layout\",\n",
    "#     \"arf_layout\",\n",
    "# ]:\n",
    "#     print(method)\n",
    "#     t0 = time.perf_counter()\n",
    "#     pos = getattr(nx, method)(G)\n",
    "#     print(f\"{time.perf_counter() - t0:.3f} [sec]\")\n",
    "#     visGraph(G, pos)"
   ]
  }
 ],
 "metadata": {
  "language_info": {
   "name": "python"
  }
 },
 "nbformat": 4,
 "nbformat_minor": 2
}
