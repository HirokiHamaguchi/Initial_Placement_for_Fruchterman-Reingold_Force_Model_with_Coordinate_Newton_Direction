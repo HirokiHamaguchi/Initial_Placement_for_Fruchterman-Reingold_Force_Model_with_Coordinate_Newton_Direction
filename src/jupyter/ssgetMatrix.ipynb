{
 "cells": [
  {
   "cell_type": "code",
   "execution_count": 18,
   "metadata": {},
   "outputs": [],
   "source": [
    "import os\n",
    "import shutil\n",
    "\n",
    "import numpy as np\n",
    "import scipy.io\n",
    "import ssgetpy\n",
    "import networkx as nx\n",
    "import matplotlib.pyplot as plt"
   ]
  },
  {
   "cell_type": "code",
   "execution_count": 2,
   "metadata": {},
   "outputs": [],
   "source": [
    "os.chdir(\"../../\")\n",
    "assert os.path.exists(\"data\")"
   ]
  },
  {
   "cell_type": "code",
   "execution_count": 21,
   "metadata": {},
   "outputs": [
    {
     "name": "stdout",
     "output_type": "stream",
     "text": [
      "cnt=124\n"
     ]
    }
   ],
   "source": [
    "matrixes = ssgetpy.search(rowbounds=(None, 1000), limit=1000)\n",
    "\n",
    "cnt = 0\n",
    "for mat in matrixes:\n",
    "    # matrix must be a square matrix\n",
    "    if mat.rows != mat.cols:\n",
    "        continue\n",
    "\n",
    "    paths = mat.download(extract=True)\n",
    "    path = paths[0]\n",
    "    assert os.path.exists(path + f\"/{mat.name}.mtx\")\n",
    "    mtx = scipy.io.mmread(path + f\"/{mat.name}.mtx\")\n",
    "\n",
    "    # matrix elements must be non-negative\n",
    "    minData = np.min(mtx.data)\n",
    "    if minData < 0:\n",
    "        continue\n",
    "\n",
    "    # matrix must be symmetric\n",
    "    arr = mtx.toarray()\n",
    "    if not np.allclose(arr, arr.T):\n",
    "        continue\n",
    "\n",
    "    # matrix must be connected\n",
    "    arr[np.diag_indices(arr.shape[0])] = 0\n",
    "    G = nx.from_numpy_array(arr)\n",
    "    if not nx.is_connected(G):\n",
    "        continue\n",
    "\n",
    "    # pos = nx.kamada_kawai_layout(G)\n",
    "    # nx.draw(G, pos, with_labels=True)\n",
    "    # plt.show()\n",
    "\n",
    "    cnt += 1\n",
    "    shutil.copy(path + f\"/{mat.name}.mtx\", f\"data/{mat.name}.mtx\")\n",
    "\n",
    "print(f\"{cnt=}\")"
   ]
  }
 ],
 "metadata": {
  "kernelspec": {
   "display_name": ".venv",
   "language": "python",
   "name": "python3"
  },
  "language_info": {
   "codemirror_mode": {
    "name": "ipython",
    "version": 3
   },
   "file_extension": ".py",
   "mimetype": "text/x-python",
   "name": "python",
   "nbconvert_exporter": "python",
   "pygments_lexer": "ipython3",
   "version": "3.12.3"
  }
 },
 "nbformat": 4,
 "nbformat_minor": 2
}
