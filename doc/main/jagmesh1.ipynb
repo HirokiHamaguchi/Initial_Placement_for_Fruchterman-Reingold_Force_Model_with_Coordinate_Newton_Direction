{
 "cells": [
  {
   "cell_type": "code",
   "execution_count": 39,
   "metadata": {},
   "outputs": [],
   "source": [
    "from src.python.vis.visAnimate import visGraph\n",
    "import networkx as nx\n",
    "\n",
    "\n",
    "def parse_out_file(file_path):\n",
    "    with open(file_path, \"r\") as file:\n",
    "        n, m, k = map(float, file.readline().split())\n",
    "        n = int(n)\n",
    "        m = int(m)\n",
    "        G = nx.Graph()\n",
    "        for i in range(n):\n",
    "            G.add_node(i)\n",
    "        for _ in range(m):\n",
    "            u, v, w = map(float, file.readline().split())\n",
    "            u = int(u)\n",
    "            v = int(v)\n",
    "            G.add_edge(u, v, weight=w)\n",
    "        t = int(file.readline())\n",
    "        positions = []\n",
    "        for _ in range(t):\n",
    "            pos = [[0, 0] for i in range(n)]\n",
    "            for i in range(n):\n",
    "                x, y = map(float, file.readline().split())\n",
    "                pos[i] = [x, y]\n",
    "            positions.append(pos)\n",
    "\n",
    "    return G, positions\n",
    "\n",
    "\n",
    "G, positions = parse_out_file(\"jagmesh1.txt\")\n",
    "\n",
    "visGraph(G, positions[0], savePath=\"_jagmesh1_FR\")\n",
    "visGraph(G, positions[1], savePath=\"_jagmesh1_L_BFGS\")\n",
    "visGraph(G, positions[2], savePath=\"_jagmesh1_RS\")\n",
    "visGraph(G, positions[3], savePath=\"_jagmesh1_RS_L_BFGS\")\n",
    "\n",
    "# trim white spaces\n",
    "\n",
    "import os\n",
    "import cv2\n",
    "\n",
    "for file in [\"FR\", \"L_BFGS\", \"RS\", \"RS_L_BFGS\"]:\n",
    "    img = cv2.imread(f\"_jagmesh1_{file}.png\", cv2.IMREAD_UNCHANGED)\n",
    "    b, g, r, alpha = img.T\n",
    "\n",
    "    # get bounding box\n",
    "    coords = cv2.findNonZero((255 - b) + (255 - g) + (255 - r))\n",
    "    x, y, w, h = cv2.boundingRect(coords)\n",
    "\n",
    "    # crop image\n",
    "    crop = img[x - 1 : x + w + 1, y - 1 : y + h + 1]\n",
    "    cv2.imwrite(f\"jagmesh1_{file}.png\", crop)\n",
    "    os.remove(f\"_jagmesh1_{file}.png\")"
   ]
  }
 ],
 "metadata": {
  "kernelspec": {
   "display_name": ".venv",
   "language": "python",
   "name": "python3"
  },
  "language_info": {
   "codemirror_mode": {
    "name": "ipython",
    "version": 3
   },
   "file_extension": ".py",
   "mimetype": "text/x-python",
   "name": "python",
   "nbconvert_exporter": "python",
   "pygments_lexer": "ipython3",
   "version": "3.12.3"
  }
 },
 "nbformat": 4,
 "nbformat_minor": 2
}
