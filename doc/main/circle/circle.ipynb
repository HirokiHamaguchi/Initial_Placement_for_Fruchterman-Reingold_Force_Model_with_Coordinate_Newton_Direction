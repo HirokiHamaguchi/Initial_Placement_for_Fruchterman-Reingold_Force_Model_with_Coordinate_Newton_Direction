{
 "cells": [
  {
   "cell_type": "code",
   "execution_count": 14,
   "metadata": {},
   "outputs": [
    {
     "name": "stdout",
     "output_type": "stream",
     "text": [
      "out/_circleHandmade_3_2_6_CI_FR.out\n",
      "idx=50\n",
      "out/_circleHandmade_3_2_6_CI_L_BFGS.out\n",
      "idx=32\n",
      "out/_circleHandmade_3_2_6_CN_FR.out\n",
      "idx=50\n",
      "out/_circleHandmade_3_2_6_CN_L_BFGS.out\n",
      "idx=50\n"
     ]
    }
   ],
   "source": [
    "import glob\n",
    "import networkx as nx\n",
    "from src.python.vis.visGraph import visGraph\n",
    "\n",
    "\n",
    "def read_file(file_path, idx):\n",
    "    with open(file_path, \"r\") as file:\n",
    "        n, m, _k = map(float, file.readline().strip().split())\n",
    "        assert n == int(n) and m == int(m)\n",
    "        n = int(n)\n",
    "        m = int(m)\n",
    "        row = []\n",
    "        col = []\n",
    "        data = []\n",
    "        for _ in range(m):\n",
    "            r, c, d = map(float, file.readline().strip().split())\n",
    "            assert r == int(r) and c == int(c)\n",
    "            r = int(r)\n",
    "            c = int(c)\n",
    "            row.append(r)\n",
    "            col.append(c)\n",
    "            data.append(d)\n",
    "        positions_size = int(file.readline().strip())\n",
    "        positions = []\n",
    "        for _ in range(positions_size):\n",
    "            position = []\n",
    "            for _ in range(n):\n",
    "                x, y = map(float, file.readline().strip().split())\n",
    "                position.extend([x, y])\n",
    "            positions.append(position)\n",
    "\n",
    "    # print(n, m, f\"{m / (n * (n - 1) / 2):.3%}\")\n",
    "\n",
    "    idx = min(idx, len(positions) - 1)\n",
    "    print(f\"{idx=}\")\n",
    "    pos = positions[idx]\n",
    "    G = nx.Graph()\n",
    "    for i in range(n):\n",
    "        G.add_node(i, pos=(pos[2 * i], pos[2 * i + 1]))\n",
    "    for i in range(m):\n",
    "        G.add_edge(row[i], col[i], weight=data[i])\n",
    "\n",
    "    return G\n",
    "\n",
    "\n",
    "paths = glob.glob(\"out/*.out\")\n",
    "paths.sort()\n",
    "for file_path in paths:\n",
    "    print(file_path)\n",
    "    G = read_file(file_path, 50)\n",
    "    extension = \".jpeg\"\n",
    "    visGraph(\n",
    "        G,\n",
    "        nx.get_node_attributes(G, \"pos\"),\n",
    "        savePath=\"viz/\" + file_path.split(\"/\")[-1].replace(\".out\", extension),\n",
    "    )"
   ]
  }
 ],
 "metadata": {
  "kernelspec": {
   "display_name": ".venv",
   "language": "python",
   "name": "python3"
  },
  "language_info": {
   "codemirror_mode": {
    "name": "ipython",
    "version": 3
   },
   "file_extension": ".py",
   "mimetype": "text/x-python",
   "name": "python",
   "nbconvert_exporter": "python",
   "pygments_lexer": "ipython3",
   "version": "3.12.3"
  }
 },
 "nbformat": 4,
 "nbformat_minor": 2
}
