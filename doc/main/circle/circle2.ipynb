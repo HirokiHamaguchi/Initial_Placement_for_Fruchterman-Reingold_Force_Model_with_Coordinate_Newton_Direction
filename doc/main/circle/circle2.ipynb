{
 "cells": [
  {
   "cell_type": "code",
   "execution_count": 1,
   "metadata": {},
   "outputs": [
    {
     "name": "stdout",
     "output_type": "stream",
     "text": [
      "out/dense_CN-L-BFGS_10.out\n",
      "out/dense_SA-L-BFGS_10.out\n"
     ]
    }
   ],
   "source": [
    "import networkx as nx\n",
    "from src.python.vis.visGraph import visGraph\n",
    "\n",
    "\n",
    "def read_file(file_path):\n",
    "    with open(file_path, \"r\") as file:\n",
    "        n, m, _k = map(float, file.readline().strip().split())\n",
    "        assert n == int(n) and m == int(m)\n",
    "        n = int(n)\n",
    "        m = int(m)\n",
    "        row = []\n",
    "        col = []\n",
    "        data = []\n",
    "        for _ in range(m):\n",
    "            r, c, d = map(float, file.readline().strip().split())\n",
    "            assert r == int(r) and c == int(c)\n",
    "            r = int(r)\n",
    "            c = int(c)\n",
    "            row.append(r)\n",
    "            col.append(c)\n",
    "            data.append(d)\n",
    "        positions_size = int(file.readline().strip())\n",
    "        positions = []\n",
    "        for _ in range(positions_size):\n",
    "            position = []\n",
    "            for _ in range(n):\n",
    "                x, y = map(float, file.readline().strip().split())\n",
    "                position.extend([x, y])\n",
    "            positions.append(position)\n",
    "\n",
    "    Gs = []\n",
    "    for pos in positions:\n",
    "        G = nx.Graph()\n",
    "        for i in range(n):\n",
    "            G.add_node(i, pos=(pos[2 * i], pos[2 * i + 1]))\n",
    "        for i in range(m):\n",
    "            G.add_edge(row[i], col[i], weight=data[i])\n",
    "        Gs.append(G)\n",
    "\n",
    "    return Gs\n",
    "\n",
    "\n",
    "for file_path, method in [(\"dense\", \"L-BFGS_10\")]:\n",
    "    for file_path in [\n",
    "        f\"out/{file_path}_CN-{method}.out\",\n",
    "        f\"out/{file_path}_SA-{method}.out\",\n",
    "    ]:\n",
    "        print(file_path)\n",
    "        Gs = read_file(file_path)\n",
    "        G = Gs[-10 - 1]\n",
    "        visGraph(\n",
    "            G,\n",
    "            nx.get_node_attributes(G, \"pos\"),\n",
    "            node_size=100,\n",
    "            savePath=\"vis/\" + file_path.split(\"/\")[-1].replace(\".out\", f\".png\"),\n",
    "        )"
   ]
  }
 ],
 "metadata": {
  "kernelspec": {
   "display_name": ".venv",
   "language": "python",
   "name": "python3"
  },
  "language_info": {
   "codemirror_mode": {
    "name": "ipython",
    "version": 3
   },
   "file_extension": ".py",
   "mimetype": "text/x-python",
   "name": "python",
   "nbconvert_exporter": "python",
   "pygments_lexer": "ipython3",
   "version": "3.12.3"
  }
 },
 "nbformat": 4,
 "nbformat_minor": 2
}
