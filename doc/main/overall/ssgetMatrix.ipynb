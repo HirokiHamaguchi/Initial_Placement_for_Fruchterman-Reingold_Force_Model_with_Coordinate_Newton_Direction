{
 "cells": [
  {
   "cell_type": "code",
   "execution_count": 1,
   "metadata": {},
   "outputs": [],
   "source": [
    "import os\n",
    "import shutil\n",
    "\n",
    "import numpy as np\n",
    "import scipy.io\n",
    "import ssgetpy\n",
    "import networkx as nx\n",
    "import matplotlib.pyplot as plt"
   ]
  },
  {
   "cell_type": "code",
   "execution_count": 2,
   "metadata": {},
   "outputs": [],
   "source": [
    "os.chdir(\"../../../\")\n",
    "assert os.path.exists(\"data\")"
   ]
  },
  {
   "cell_type": "code",
   "execution_count": 3,
   "metadata": {},
   "outputs": [
    {
     "name": "stdout",
     "output_type": "stream",
     "text": [
      "cnt=124\n"
     ]
    }
   ],
   "source": [
    "matrixes = list(ssgetpy.search(rowbounds=(None, 1000), limit=10000))\n",
    "\n",
    "cnt = 0\n",
    "matNames = []\n",
    "for mat in matrixes:\n",
    "    # matrix must be a square matrix\n",
    "    if mat.rows != mat.cols:\n",
    "        continue\n",
    "\n",
    "    paths = mat.download(extract=True)\n",
    "    path = paths[0]\n",
    "    assert os.path.exists(path + f\"/{mat.name}.mtx\")\n",
    "    mtx = scipy.io.mmread(path + f\"/{mat.name}.mtx\")\n",
    "\n",
    "    # matrix elements must be non-negative\n",
    "    minData = np.min(mtx.data)\n",
    "    if minData < 0:\n",
    "        continue\n",
    "\n",
    "    # matrix must be symmetric\n",
    "    arr = mtx.toarray()\n",
    "    if not np.allclose(arr, arr.T):\n",
    "        continue\n",
    "\n",
    "    # matrix must be connected\n",
    "    arr[np.diag_indices(arr.shape[0])] = 0\n",
    "    G = nx.from_numpy_array(arr)\n",
    "    if not nx.is_connected(G):\n",
    "        continue\n",
    "\n",
    "    # pos = nx.kamada_kawai_layout(G)\n",
    "    # nx.draw(G, pos, with_labels=True)\n",
    "    # plt.show()\n",
    "\n",
    "    cnt += 1\n",
    "    shutil.copy(path + f\"/{mat.name}.mtx\", f\"data/{mat.name}.mtx\")\n",
    "    matNames.append((mat.name, G.number_of_nodes()))\n",
    "\n",
    "print(f\"{cnt=}\")"
   ]
  },
  {
   "cell_type": "code",
   "execution_count": 4,
   "metadata": {},
   "outputs": [],
   "source": [
    "with open(\"doc/main/overall/matrixNames.txt\", \"w\") as f:\n",
    "    for name, _ in matNames:\n",
    "        assert os.path.exists(f\"data/{name}.mtx\")\n",
    "        f.write(name + \"\\n\")"
   ]
  },
  {
   "cell_type": "code",
   "execution_count": null,
   "metadata": {},
   "outputs": [
    {
     "name": "stdout",
     "output_type": "stream",
     "text": [
      "{'ash292': 292, 'ash85': 85, 'bcspwr01': 39, 'bcspwr02': 49, 'bcspwr03': 118, 'bcspwr04': 274, 'bcspwr05': 443, 'can_144': 144, 'can_161': 161, 'can_187': 187, 'can_229': 229, 'can_24': 24, 'can_256': 256, 'can_268': 268, 'can_292': 292, 'can_445': 445, 'can_61': 61, 'can_62': 62, 'can_634': 634, 'can_715': 715, 'can_73': 73, 'can_838': 838, 'can_96': 96, 'dwt_162': 162, 'dwt_193': 193, 'dwt_209': 209, 'dwt_221': 221, 'dwt_245': 245, 'dwt_307': 307, 'dwt_310': 310, 'dwt_361': 361, 'dwt_419': 419, 'dwt_503': 503, 'dwt_59': 59, 'dwt_592': 592, 'dwt_66': 66, 'dwt_72': 72, 'dwt_758': 758, 'dwt_869': 869, 'dwt_87': 87, 'dwt_878': 878, 'dwt_918': 918, 'dwt_992': 992, 'jagmesh1': 936, 'lshp_265': 265, 'lshp_406': 406, 'lshp_577': 577, 'lshp_778': 778, 'G1': 800, 'G14': 800, 'G15': 800, 'G16': 800, 'G17': 800, 'G2': 800, 'G3': 800, 'G4': 800, 'G43': 1000, 'G44': 1000, 'G45': 1000, 'G46': 1000, 'G47': 1000, 'G5': 800, 'G51': 1000, 'G52': 1000, 'G53': 1000, 'G54': 1000, 'mesh3e1': 289, 'mesh3em5': 289, 'sphere2': 66, 'sphere3': 258, 'lap_25': 25, 'GD06_theory': 101, 'GD96_c': 65, 'GD97_a': 84, 'GD98_c': 112, 'GD99_b': 64, 'Journals': 124, 'Sandi_authors': 86, 'USAir97': 332, 'EX1': 560, 'EX2': 560, 'Trefethen_20b': 19, 'Trefethen_20': 20, 'Trefethen_150': 150, 'Trefethen_200b': 199, 'Trefethen_200': 200, 'Trefethen_300': 300, 'Trefethen_500': 500, 'Trefethen_700': 700, 'adjnoun': 112, 'dolphins': 62, 'football': 115, 'karate': 34, 'lesmis': 77, 'polbooks': 105, 'jazz': 198, 'celegans_metabolic': 453, 'grid1': 252, 'grid1_dual': 224, 'netz4504_dual': 615, 'L': 956, 'cage': 366, 'chesapeake': 39, 'mycielskian2': 2, 'mycielskian3': 5, 'mycielskian4': 11, 'mycielskian5': 23, 'mycielskian6': 47, 'mycielskian7': 95, 'mycielskian8': 191, 'mycielskian9': 383, 'mycielskian10': 767, 'breasttissue_10NN': 106, 'collins_15NN': 1000, 'dermatology_5NN': 366, 'Ecoli_10NN': 336, 'Glass_10NN': 214, 'iris_dataset_30NN': 150, 'micromass_10NN': 571, 'Olivetti_norm_10NN': 400, 'Spectro_10NN': 531, 'umistfacesnorm_10NN': 575, 'Vehicle_10NN': 846, 'YaleA_10NN': 165}\n"
     ]
    }
   ],
   "source": [
    "# make a dict of {matrixName: numNodes}\n",
    "\n",
    "data = {}\n",
    "for name, numNodes in matNames:\n",
    "    data[name] = numNodes\n",
    "\n",
    "print(data)"
   ]
  }
 ],
 "metadata": {
  "kernelspec": {
   "display_name": ".venv",
   "language": "python",
   "name": "python3"
  },
  "language_info": {
   "codemirror_mode": {
    "name": "ipython",
    "version": 3
   },
   "file_extension": ".py",
   "mimetype": "text/x-python",
   "name": "python",
   "nbconvert_exporter": "python",
   "pygments_lexer": "ipython3",
   "version": "3.12.3"
  }
 },
 "nbformat": 4,
 "nbformat_minor": 2
}
